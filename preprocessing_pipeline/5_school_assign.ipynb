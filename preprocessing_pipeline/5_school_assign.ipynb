{
 "cells": [
  {
   "attachments": {},
   "cell_type": "markdown",
   "metadata": {},
   "source": [
    "### Here we assign schools for students whose age between 7 and 17 and put this info to school_id"
   ]
  },
  {
   "cell_type": "code",
   "execution_count": 3,
   "metadata": {},
   "outputs": [],
   "source": [
    "import numpy as np\n",
    "import pandas as pd \n",
    "import matplotlib.pyplot as plt\n",
    "from shapely.geometry import Point\n",
    "from tqdm import tqdm\n",
    "from geopy.distance import great_circle\n",
    "import random"
   ]
  },
  {
   "cell_type": "code",
   "execution_count": 4,
   "metadata": {},
   "outputs": [],
   "source": [
    "# SOME AUXILIARY FUNCTIONS\n",
    "def isSchoolAge(row):\n",
    "    return row['age'] >= 7 and row['age'] <= 17\n",
    "\n",
    "\n",
    "def isWorkingAge(row):\n",
    "    return row['age'] >= 18 and (row['sex'] == 'F' and row['age'] <= 60 or row['sex'] == 'M' and row['age'] <= 55)\n",
    "\n",
    "\n",
    "def rowPointLocation(row):\n",
    "    return Point(float(row['latitude']), float(row['longitude']))\n",
    "\n",
    "\n",
    "def findDistToObj(row, point):\n",
    "    # finds distances from the selected point to the object represented by DataFrame row\n",
    "    obj_point = rowPointLocation(row)\n",
    "    dist = great_circle((point.x, point.y), (obj_point.x, obj_point.y)).km\n",
    "    return dist"
   ]
  },
  {
   "cell_type": "code",
   "execution_count": 5,
   "metadata": {},
   "outputs": [
    {
     "name": "stderr",
     "output_type": "stream",
     "text": [
      "1081008it [00:47, 24269.92it/s]"
     ]
    }
   ],
   "source": [
    "city_name = 'chelyabinsk'\n",
    "\n",
    "input_dir_schools = '../data/' + city_name + '/schools_' + city_name + '_2023.txt'\n",
    "\n",
    "output_dir = '../data/' + city_name + '/people_' + city_name + '_2023_assigned_schools.txt'\n",
    "input_dir_people = '../data/' + city_name + '/people_' + city_name + '_2023_assigned_workplaces.txt'\n",
    "input_dir_households = '../data/' + city_name + '/households_' + city_name + '_2023_splitted_dwellings.txt'\n",
    "\n",
    "people_df = pd.read_csv(input_dir_people, sep='\\t')\n",
    "households_df = pd.read_csv(input_dir_households, sep='\\t')\n",
    "schools_df = pd.read_csv(input_dir_schools, sep='\\t')\n",
    "\n",
    "\n",
    "hh_points_dic = {}\n",
    "\n",
    "list_keys = households_df['sp_id'].tolist()\n",
    "list_values = [Point([row['latitude'], row['longitude']])\n",
    "               for idx, row in tqdm(households_df.iterrows())]\n",
    "\n",
    "for key, value in zip(list_keys, list_values):\n",
    "    hh_points_dic[key] = value\n",
    "    \n"
   ]
  },
  {
   "cell_type": "code",
   "execution_count": 14,
   "metadata": {},
   "outputs": [
    {
     "name": "stdout",
     "output_type": "stream",
     "text": [
      "Schools, total: 810\n",
      "Schoolchildren, total: 567780\n"
     ]
    },
    {
     "name": "stderr",
     "output_type": "stream",
     "text": [
      "  0%|          | 6/567780 [00:00<7:04:15, 22.30it/s]"
     ]
    },
    {
     "name": "stdout",
     "output_type": "stream",
     "text": [
      "Too much tries\n",
      "Too much tries\n",
      "Too much tries\n",
      "Too much tries\n",
      "Too much tries\n"
     ]
    },
    {
     "name": "stderr",
     "output_type": "stream",
     "text": [
      "  0%|          | 9/567780 [00:00<7:38:28, 20.64it/s]"
     ]
    },
    {
     "name": "stdout",
     "output_type": "stream",
     "text": [
      "Too much tries\n",
      "Too much tries\n",
      "Too much tries\n",
      "Too much tries\n",
      "Too much tries\n"
     ]
    },
    {
     "name": "stderr",
     "output_type": "stream",
     "text": [
      "  0%|          | 15/567780 [00:00<7:22:10, 21.40it/s]"
     ]
    },
    {
     "name": "stdout",
     "output_type": "stream",
     "text": [
      "Too much tries\n",
      "Too much tries\n",
      "Too much tries\n"
     ]
    },
    {
     "name": "stderr",
     "output_type": "stream",
     "text": [
      "  0%|          | 21/567780 [00:01<7:38:56, 20.62it/s]"
     ]
    },
    {
     "name": "stdout",
     "output_type": "stream",
     "text": [
      "Too much tries\n",
      "Too much tries\n",
      "Too much tries\n",
      "Too much tries\n",
      "Too much tries\n"
     ]
    },
    {
     "name": "stderr",
     "output_type": "stream",
     "text": [
      "  0%|          | 24/567780 [00:01<7:43:13, 20.43it/s]"
     ]
    },
    {
     "name": "stdout",
     "output_type": "stream",
     "text": [
      "Too much tries\n",
      "Too much tries\n",
      "Too much tries\n",
      "Too much tries\n"
     ]
    },
    {
     "name": "stderr",
     "output_type": "stream",
     "text": [
      "  0%|          | 30/567780 [00:01<7:32:23, 20.92it/s]"
     ]
    },
    {
     "name": "stdout",
     "output_type": "stream",
     "text": [
      "Too much tries\n",
      "Too much tries\n",
      "Too much tries\n",
      "Too much tries\n",
      "Too much tries\n"
     ]
    },
    {
     "name": "stderr",
     "output_type": "stream",
     "text": [
      "  0%|          | 33/567780 [00:01<7:41:31, 20.50it/s]"
     ]
    },
    {
     "name": "stdout",
     "output_type": "stream",
     "text": [
      "Too much tries\n",
      "Too much tries\n",
      "Too much tries\n",
      "Too much tries\n",
      "Too much tries\n"
     ]
    },
    {
     "name": "stderr",
     "output_type": "stream",
     "text": [
      "  0%|          | 39/567780 [00:01<7:30:16, 21.01it/s]"
     ]
    },
    {
     "name": "stdout",
     "output_type": "stream",
     "text": [
      "Too much tries\n",
      "Too much tries\n",
      "Too much tries\n",
      "Too much tries\n",
      "Too much tries\n"
     ]
    },
    {
     "name": "stderr",
     "output_type": "stream",
     "text": [
      "  0%|          | 45/567780 [00:02<7:39:18, 20.60it/s]"
     ]
    },
    {
     "name": "stdout",
     "output_type": "stream",
     "text": [
      "Too much tries\n",
      "Too much tries\n",
      "Too much tries\n",
      "Too much tries\n"
     ]
    },
    {
     "name": "stderr",
     "output_type": "stream",
     "text": [
      "  0%|          | 51/567780 [00:02<7:36:15, 20.74it/s]"
     ]
    },
    {
     "name": "stdout",
     "output_type": "stream",
     "text": [
      "Too much tries\n",
      "Too much tries\n",
      "Too much tries\n",
      "Too much tries\n"
     ]
    },
    {
     "name": "stderr",
     "output_type": "stream",
     "text": [
      "  0%|          | 54/567780 [00:02<7:38:45, 20.63it/s]"
     ]
    },
    {
     "name": "stdout",
     "output_type": "stream",
     "text": [
      "Too much tries\n",
      "Too much tries\n",
      "Too much tries\n",
      "Too much tries\n",
      "Too much tries\n"
     ]
    },
    {
     "name": "stderr",
     "output_type": "stream",
     "text": [
      "  0%|          | 60/567780 [00:02<7:47:02, 20.26it/s]"
     ]
    },
    {
     "name": "stdout",
     "output_type": "stream",
     "text": [
      "Too much tries\n",
      "Too much tries\n",
      "Too much tries\n",
      "Too much tries\n",
      "Too much tries\n"
     ]
    },
    {
     "name": "stderr",
     "output_type": "stream",
     "text": [
      "  0%|          | 66/567780 [00:03<7:39:59, 20.57it/s]"
     ]
    },
    {
     "name": "stdout",
     "output_type": "stream",
     "text": [
      "Too much tries\n",
      "Too much tries\n",
      "Too much tries\n",
      "Too much tries\n",
      "Too much tries\n"
     ]
    },
    {
     "name": "stderr",
     "output_type": "stream",
     "text": [
      "  0%|          | 69/567780 [00:03<7:38:22, 20.64it/s]"
     ]
    },
    {
     "name": "stdout",
     "output_type": "stream",
     "text": [
      "Too much tries\n",
      "Too much tries\n",
      "Too much tries\n",
      "Too much tries\n",
      "Too much tries\n"
     ]
    },
    {
     "name": "stderr",
     "output_type": "stream",
     "text": [
      "  0%|          | 75/567780 [00:03<7:35:07, 20.79it/s]"
     ]
    },
    {
     "name": "stdout",
     "output_type": "stream",
     "text": [
      "Too much tries\n",
      "Too much tries\n",
      "Too much tries\n",
      "Too much tries\n",
      "Too much tries\n"
     ]
    },
    {
     "name": "stderr",
     "output_type": "stream",
     "text": [
      "  0%|          | 81/567780 [00:03<7:30:31, 21.00it/s]"
     ]
    },
    {
     "name": "stdout",
     "output_type": "stream",
     "text": [
      "Too much tries\n",
      "Too much tries\n",
      "Too much tries\n"
     ]
    },
    {
     "name": "stderr",
     "output_type": "stream",
     "text": [
      "  0%|          | 84/567780 [00:04<7:36:55, 20.71it/s]"
     ]
    },
    {
     "name": "stdout",
     "output_type": "stream",
     "text": [
      "Too much tries\n",
      "Too much tries\n",
      "Too much tries\n",
      "Too much tries\n",
      "Too much tries\n"
     ]
    },
    {
     "name": "stderr",
     "output_type": "stream",
     "text": [
      "  0%|          | 90/567780 [00:04<7:41:28, 20.50it/s]"
     ]
    },
    {
     "name": "stdout",
     "output_type": "stream",
     "text": [
      "Too much tries\n",
      "Too much tries\n",
      "Too much tries\n",
      "Too much tries\n",
      "Too much tries\n"
     ]
    },
    {
     "name": "stderr",
     "output_type": "stream",
     "text": [
      "  0%|          | 96/567780 [00:04<7:35:58, 20.75it/s]"
     ]
    },
    {
     "name": "stdout",
     "output_type": "stream",
     "text": [
      "Too much tries\n",
      "Too much tries\n",
      "Too much tries\n",
      "Too much tries\n"
     ]
    },
    {
     "name": "stderr",
     "output_type": "stream",
     "text": [
      "  0%|          | 100/567780 [00:04<7:39:11, 20.60it/s]"
     ]
    },
    {
     "name": "stdout",
     "output_type": "stream",
     "text": [
      "Too much tries\n",
      "Too much tries\n",
      "Too much tries\n"
     ]
    },
    {
     "name": "stderr",
     "output_type": "stream",
     "text": [
      "\n"
     ]
    },
    {
     "ename": "KeyboardInterrupt",
     "evalue": "",
     "output_type": "error",
     "traceback": [
      "\u001b[1;31m---------------------------------------------------------------------------\u001b[0m",
      "\u001b[1;31mKeyboardInterrupt\u001b[0m                         Traceback (most recent call last)",
      "Cell \u001b[1;32mIn[14], line 101\u001b[0m\n\u001b[0;32m     99\u001b[0m \u001b[38;5;66;03m# schools_df['size'] = schools_df['size']\u001b[39;00m\n\u001b[0;32m    100\u001b[0m schools_df[\u001b[38;5;124m'\u001b[39m\u001b[38;5;124msize\u001b[39m\u001b[38;5;124m'\u001b[39m]\u001b[38;5;241m.\u001b[39msum()\n\u001b[1;32m--> 101\u001b[0m df_assign \u001b[38;5;241m=\u001b[39m \u001b[43massignSchools\u001b[49m\u001b[43m(\u001b[49m\u001b[43mpeople_df\u001b[49m\u001b[43m,\u001b[49m\u001b[43m \u001b[49m\u001b[43mhh_points_dic\u001b[49m\u001b[43m,\u001b[49m\u001b[43m \u001b[49m\u001b[43mschools_df\u001b[49m\u001b[43m)\u001b[49m\n",
      "Cell \u001b[1;32mIn[14], line 26\u001b[0m, in \u001b[0;36massignSchools\u001b[1;34m(df_orig, hh_points_dic, schools_df_orig)\u001b[0m\n\u001b[0;32m     23\u001b[0m \u001b[38;5;66;03m# print(\"Student {} (out of {})\".format(idx, df.shape[0]))\u001b[39;00m\n\u001b[0;32m     24\u001b[0m person_point \u001b[38;5;241m=\u001b[39m hh_points_dic[person_row[\u001b[38;5;124m'\u001b[39m\u001b[38;5;124msp_hh_id\u001b[39m\u001b[38;5;124m'\u001b[39m]]\n\u001b[1;32m---> 26\u001b[0m series_distance \u001b[38;5;241m=\u001b[39m \u001b[43mschools_df\u001b[49m\u001b[38;5;241;43m.\u001b[39;49m\u001b[43mapply\u001b[49m\u001b[43m(\u001b[49m\n\u001b[0;32m     27\u001b[0m \u001b[43m    \u001b[49m\u001b[43mfindDistToObj\u001b[49m\u001b[43m,\u001b[49m\u001b[43m \u001b[49m\u001b[43margs\u001b[49m\u001b[38;5;241;43m=\u001b[39;49m\u001b[43m(\u001b[49m\u001b[43mperson_point\u001b[49m\u001b[43m,\u001b[49m\u001b[43m \u001b[49m\u001b[43m)\u001b[49m\u001b[43m,\u001b[49m\u001b[43m \u001b[49m\u001b[43maxis\u001b[49m\u001b[38;5;241;43m=\u001b[39;49m\u001b[38;5;241;43m1\u001b[39;49m\u001b[43m)\u001b[49m\n\u001b[0;32m     28\u001b[0m df_add \u001b[38;5;241m=\u001b[39m pd\u001b[38;5;241m.\u001b[39mDataFrame(series_distance\u001b[38;5;241m.\u001b[39mtolist(), columns\u001b[38;5;241m=\u001b[39m[\n\u001b[0;32m     29\u001b[0m                       \u001b[38;5;124m'\u001b[39m\u001b[38;5;124mdistances\u001b[39m\u001b[38;5;124m'\u001b[39m], index\u001b[38;5;241m=\u001b[39mschools_df\u001b[38;5;241m.\u001b[39mindex)\n\u001b[0;32m     30\u001b[0m schools_df\u001b[38;5;241m.\u001b[39mupdate(df_add)\n",
      "File \u001b[1;32mc:\\Users\\user\\ICCS_2024\\.env\\lib\\site-packages\\pandas\\core\\frame.py:9423\u001b[0m, in \u001b[0;36mDataFrame.apply\u001b[1;34m(self, func, axis, raw, result_type, args, **kwargs)\u001b[0m\n\u001b[0;32m   9412\u001b[0m \u001b[38;5;28;01mfrom\u001b[39;00m \u001b[38;5;21;01mpandas\u001b[39;00m\u001b[38;5;21;01m.\u001b[39;00m\u001b[38;5;21;01mcore\u001b[39;00m\u001b[38;5;21;01m.\u001b[39;00m\u001b[38;5;21;01mapply\u001b[39;00m \u001b[38;5;28;01mimport\u001b[39;00m frame_apply\n\u001b[0;32m   9414\u001b[0m op \u001b[38;5;241m=\u001b[39m frame_apply(\n\u001b[0;32m   9415\u001b[0m     \u001b[38;5;28mself\u001b[39m,\n\u001b[0;32m   9416\u001b[0m     func\u001b[38;5;241m=\u001b[39mfunc,\n\u001b[1;32m   (...)\u001b[0m\n\u001b[0;32m   9421\u001b[0m     kwargs\u001b[38;5;241m=\u001b[39mkwargs,\n\u001b[0;32m   9422\u001b[0m )\n\u001b[1;32m-> 9423\u001b[0m \u001b[38;5;28;01mreturn\u001b[39;00m \u001b[43mop\u001b[49m\u001b[38;5;241;43m.\u001b[39;49m\u001b[43mapply\u001b[49m\u001b[43m(\u001b[49m\u001b[43m)\u001b[49m\u001b[38;5;241m.\u001b[39m__finalize__(\u001b[38;5;28mself\u001b[39m, method\u001b[38;5;241m=\u001b[39m\u001b[38;5;124m\"\u001b[39m\u001b[38;5;124mapply\u001b[39m\u001b[38;5;124m\"\u001b[39m)\n",
      "File \u001b[1;32mc:\\Users\\user\\ICCS_2024\\.env\\lib\\site-packages\\pandas\\core\\apply.py:678\u001b[0m, in \u001b[0;36mFrameApply.apply\u001b[1;34m(self)\u001b[0m\n\u001b[0;32m    675\u001b[0m \u001b[38;5;28;01melif\u001b[39;00m \u001b[38;5;28mself\u001b[39m\u001b[38;5;241m.\u001b[39mraw:\n\u001b[0;32m    676\u001b[0m     \u001b[38;5;28;01mreturn\u001b[39;00m \u001b[38;5;28mself\u001b[39m\u001b[38;5;241m.\u001b[39mapply_raw()\n\u001b[1;32m--> 678\u001b[0m \u001b[38;5;28;01mreturn\u001b[39;00m \u001b[38;5;28;43mself\u001b[39;49m\u001b[38;5;241;43m.\u001b[39;49m\u001b[43mapply_standard\u001b[49m\u001b[43m(\u001b[49m\u001b[43m)\u001b[49m\n",
      "File \u001b[1;32mc:\\Users\\user\\ICCS_2024\\.env\\lib\\site-packages\\pandas\\core\\apply.py:798\u001b[0m, in \u001b[0;36mFrameApply.apply_standard\u001b[1;34m(self)\u001b[0m\n\u001b[0;32m    797\u001b[0m \u001b[38;5;28;01mdef\u001b[39;00m \u001b[38;5;21mapply_standard\u001b[39m(\u001b[38;5;28mself\u001b[39m):\n\u001b[1;32m--> 798\u001b[0m     results, res_index \u001b[38;5;241m=\u001b[39m \u001b[38;5;28;43mself\u001b[39;49m\u001b[38;5;241;43m.\u001b[39;49m\u001b[43mapply_series_generator\u001b[49m\u001b[43m(\u001b[49m\u001b[43m)\u001b[49m\n\u001b[0;32m    800\u001b[0m     \u001b[38;5;66;03m# wrap results\u001b[39;00m\n\u001b[0;32m    801\u001b[0m     \u001b[38;5;28;01mreturn\u001b[39;00m \u001b[38;5;28mself\u001b[39m\u001b[38;5;241m.\u001b[39mwrap_results(results, res_index)\n",
      "File \u001b[1;32mc:\\Users\\user\\ICCS_2024\\.env\\lib\\site-packages\\pandas\\core\\apply.py:814\u001b[0m, in \u001b[0;36mFrameApply.apply_series_generator\u001b[1;34m(self)\u001b[0m\n\u001b[0;32m    811\u001b[0m \u001b[38;5;28;01mwith\u001b[39;00m option_context(\u001b[38;5;124m\"\u001b[39m\u001b[38;5;124mmode.chained_assignment\u001b[39m\u001b[38;5;124m\"\u001b[39m, \u001b[38;5;28;01mNone\u001b[39;00m):\n\u001b[0;32m    812\u001b[0m     \u001b[38;5;28;01mfor\u001b[39;00m i, v \u001b[38;5;129;01min\u001b[39;00m \u001b[38;5;28menumerate\u001b[39m(series_gen):\n\u001b[0;32m    813\u001b[0m         \u001b[38;5;66;03m# ignore SettingWithCopy here in case the user mutates\u001b[39;00m\n\u001b[1;32m--> 814\u001b[0m         results[i] \u001b[38;5;241m=\u001b[39m \u001b[38;5;28;43mself\u001b[39;49m\u001b[38;5;241;43m.\u001b[39;49m\u001b[43mf\u001b[49m\u001b[43m(\u001b[49m\u001b[43mv\u001b[49m\u001b[43m)\u001b[49m\n\u001b[0;32m    815\u001b[0m         \u001b[38;5;28;01mif\u001b[39;00m \u001b[38;5;28misinstance\u001b[39m(results[i], ABCSeries):\n\u001b[0;32m    816\u001b[0m             \u001b[38;5;66;03m# If we have a view on v, we need to make a copy because\u001b[39;00m\n\u001b[0;32m    817\u001b[0m             \u001b[38;5;66;03m#  series_generator will swap out the underlying data\u001b[39;00m\n\u001b[0;32m    818\u001b[0m             results[i] \u001b[38;5;241m=\u001b[39m results[i]\u001b[38;5;241m.\u001b[39mcopy(deep\u001b[38;5;241m=\u001b[39m\u001b[38;5;28;01mFalse\u001b[39;00m)\n",
      "File \u001b[1;32mc:\\Users\\user\\ICCS_2024\\.env\\lib\\site-packages\\pandas\\core\\apply.py:133\u001b[0m, in \u001b[0;36mApply.__init__.<locals>.f\u001b[1;34m(x)\u001b[0m\n\u001b[0;32m    132\u001b[0m \u001b[38;5;28;01mdef\u001b[39;00m \u001b[38;5;21mf\u001b[39m(x):\n\u001b[1;32m--> 133\u001b[0m     \u001b[38;5;28;01mreturn\u001b[39;00m \u001b[43mfunc\u001b[49m\u001b[43m(\u001b[49m\u001b[43mx\u001b[49m\u001b[43m,\u001b[49m\u001b[43m \u001b[49m\u001b[38;5;241;43m*\u001b[39;49m\u001b[43margs\u001b[49m\u001b[43m,\u001b[49m\u001b[43m \u001b[49m\u001b[38;5;241;43m*\u001b[39;49m\u001b[38;5;241;43m*\u001b[39;49m\u001b[43mkwargs\u001b[49m\u001b[43m)\u001b[49m\n",
      "Cell \u001b[1;32mIn[10], line 17\u001b[0m, in \u001b[0;36mfindDistToObj\u001b[1;34m(row, point)\u001b[0m\n\u001b[0;32m     14\u001b[0m \u001b[38;5;28;01mdef\u001b[39;00m \u001b[38;5;21mfindDistToObj\u001b[39m(row, point):\n\u001b[0;32m     15\u001b[0m     \u001b[38;5;66;03m# finds distances from the selected point to the object represented by DataFrame row\u001b[39;00m\n\u001b[0;32m     16\u001b[0m     obj_point \u001b[38;5;241m=\u001b[39m rowPointLocation(row)\n\u001b[1;32m---> 17\u001b[0m     dist \u001b[38;5;241m=\u001b[39m great_circle((\u001b[43mpoint\u001b[49m\u001b[38;5;241;43m.\u001b[39;49m\u001b[43mx\u001b[49m, point\u001b[38;5;241m.\u001b[39my), (obj_point\u001b[38;5;241m.\u001b[39mx, obj_point\u001b[38;5;241m.\u001b[39my))\u001b[38;5;241m.\u001b[39mkm\n\u001b[0;32m     18\u001b[0m     \u001b[38;5;28;01mreturn\u001b[39;00m dist\n",
      "File \u001b[1;32mc:\\Users\\user\\ICCS_2024\\.env\\lib\\site-packages\\shapely\\geometry\\point.py:88\u001b[0m, in \u001b[0;36mPoint.x\u001b[1;34m(self)\u001b[0m\n\u001b[0;32m     85\u001b[0m \u001b[38;5;129m@property\u001b[39m\n\u001b[0;32m     86\u001b[0m \u001b[38;5;28;01mdef\u001b[39;00m \u001b[38;5;21mx\u001b[39m(\u001b[38;5;28mself\u001b[39m):\n\u001b[0;32m     87\u001b[0m \u001b[38;5;250m    \u001b[39m\u001b[38;5;124;03m\"\"\"Return x coordinate.\"\"\"\u001b[39;00m\n\u001b[1;32m---> 88\u001b[0m     \u001b[38;5;28;01mreturn\u001b[39;00m \u001b[43mshapely\u001b[49m\u001b[38;5;241;43m.\u001b[39;49m\u001b[43mget_x\u001b[49m\u001b[43m(\u001b[49m\u001b[38;5;28;43mself\u001b[39;49m\u001b[43m)\u001b[49m\n",
      "File \u001b[1;32mc:\\Users\\user\\ICCS_2024\\.env\\lib\\site-packages\\shapely\\decorators.py:77\u001b[0m, in \u001b[0;36mmultithreading_enabled.<locals>.wrapped\u001b[1;34m(*args, **kwargs)\u001b[0m\n\u001b[0;32m     75\u001b[0m     \u001b[38;5;28;01mfor\u001b[39;00m arr \u001b[38;5;129;01min\u001b[39;00m array_args:\n\u001b[0;32m     76\u001b[0m         arr\u001b[38;5;241m.\u001b[39mflags\u001b[38;5;241m.\u001b[39mwriteable \u001b[38;5;241m=\u001b[39m \u001b[38;5;28;01mFalse\u001b[39;00m\n\u001b[1;32m---> 77\u001b[0m     \u001b[38;5;28;01mreturn\u001b[39;00m \u001b[43mfunc\u001b[49m\u001b[43m(\u001b[49m\u001b[38;5;241;43m*\u001b[39;49m\u001b[43margs\u001b[49m\u001b[43m,\u001b[49m\u001b[43m \u001b[49m\u001b[38;5;241;43m*\u001b[39;49m\u001b[38;5;241;43m*\u001b[39;49m\u001b[43mkwargs\u001b[49m\u001b[43m)\u001b[49m\n\u001b[0;32m     78\u001b[0m \u001b[38;5;28;01mfinally\u001b[39;00m:\n\u001b[0;32m     79\u001b[0m     \u001b[38;5;28;01mfor\u001b[39;00m arr, old_flag \u001b[38;5;129;01min\u001b[39;00m \u001b[38;5;28mzip\u001b[39m(array_args, old_flags):\n",
      "File \u001b[1;32mc:\\Users\\user\\ICCS_2024\\.env\\lib\\site-packages\\shapely\\_geometry.py:264\u001b[0m, in \u001b[0;36mget_x\u001b[1;34m(point, **kwargs)\u001b[0m\n\u001b[0;32m    241\u001b[0m \u001b[38;5;129m@multithreading_enabled\u001b[39m\n\u001b[0;32m    242\u001b[0m \u001b[38;5;28;01mdef\u001b[39;00m \u001b[38;5;21mget_x\u001b[39m(point, \u001b[38;5;241m*\u001b[39m\u001b[38;5;241m*\u001b[39mkwargs):\n\u001b[0;32m    243\u001b[0m \u001b[38;5;250m    \u001b[39m\u001b[38;5;124;03m\"\"\"Returns the x-coordinate of a point\u001b[39;00m\n\u001b[0;32m    244\u001b[0m \n\u001b[0;32m    245\u001b[0m \u001b[38;5;124;03m    Parameters\u001b[39;00m\n\u001b[1;32m   (...)\u001b[0m\n\u001b[0;32m    262\u001b[0m \u001b[38;5;124;03m    nan\u001b[39;00m\n\u001b[0;32m    263\u001b[0m \u001b[38;5;124;03m    \"\"\"\u001b[39;00m\n\u001b[1;32m--> 264\u001b[0m     \u001b[38;5;28;01mreturn\u001b[39;00m \u001b[43mlib\u001b[49m\u001b[38;5;241;43m.\u001b[39;49m\u001b[43mget_x\u001b[49m\u001b[43m(\u001b[49m\u001b[43mpoint\u001b[49m\u001b[43m,\u001b[49m\u001b[43m \u001b[49m\u001b[38;5;241;43m*\u001b[39;49m\u001b[38;5;241;43m*\u001b[39;49m\u001b[43mkwargs\u001b[49m\u001b[43m)\u001b[49m\n",
      "\u001b[1;31mKeyboardInterrupt\u001b[0m: "
     ]
    }
   ],
   "source": [
    "def assignSchools(df_orig, hh_points_dic, schools_df_orig):\n",
    "    assign_type = '15km' # 'closest' or any ohter string to apply less than 15km radius workplace\n",
    "    close_schools_ids = []\n",
    "\n",
    "    df = df_orig[df_orig.apply(isSchoolAge, axis=1)]\n",
    "    # print(len(df))\n",
    "\n",
    "    students_num = {}  # Counting students assigned to each school\n",
    "\n",
    "    print(\"Schools, total: {}\".format(schools_df_orig.shape[0]))\n",
    "    print(\"Schoolchildren, total: {}\".format(df.shape[0]))\n",
    "    input(\"Press any key to continue calculating...\")\n",
    "\n",
    "    df_add = pd.DataFrame(list(np.zeros(schools_df_orig.shape[0])), columns=[\n",
    "                          'distances'], index=schools_df_orig.index)\n",
    "    schools_df = schools_df_orig.join(df_add)\n",
    "\n",
    "    allSchoolsFilled = False\n",
    "\n",
    "    for idx in tqdm(range(int(df.shape[0]))):\n",
    "        person_row = df.iloc[idx]\n",
    "        person_point = hh_points_dic[person_row['sp_hh_id']]\n",
    "        # print(\"Student {} (out of {})\".format(idx, df.shape[0]))\n",
    "        person_point = hh_points_dic[person_row['sp_hh_id']]\n",
    "\n",
    "        series_distance = schools_df.apply(\n",
    "            findDistToObj, args=(person_point, ), axis=1)\n",
    "        df_add = pd.DataFrame(series_distance.tolist(), columns=[\n",
    "                              'distances'], index=schools_df.index)\n",
    "        schools_df.update(df_add)\n",
    "\n",
    "        isStudentAssigned = False\n",
    "\n",
    "        while not isStudentAssigned:\n",
    "            # print(\"Schools: \\n\", schools_df)\n",
    "            # print(\"School distances: \\n\", schools_df['distances'])\n",
    "            \n",
    "            close_school = None\n",
    "            min_index = 0\n",
    "            ### ASSIGN CLOSEST WORKPLACE\n",
    "            if (assign_type == 'closest'):\n",
    "                min_index = schools_df['distances'].idxmin()\n",
    "                close_school = schools_df.loc[min_index]\n",
    "            ### ASSIGN FROM SOME DISTANCE    \n",
    "            else: \n",
    "                schoolCloseEnough = False \n",
    "                counter = 0\n",
    "                while (not schoolCloseEnough):\n",
    "                    # random.seed(10)\n",
    "                    min_index = np.random.choice(schools_df['distances'].index, size=1)[0]\n",
    "                    close_school = schools_df.loc[min_index]\n",
    "                    counter+=1\n",
    "                    if counter >= 50:\n",
    "                        print('Too much tries')\n",
    "                        schoolCloseEnough = True\n",
    "                    # print(close_workplace.shape)\n",
    "                    # print(close_workplace['distances'])\n",
    "                    if (close_school['distances'] <= 5): \n",
    "                        # print(close_workplace)\n",
    "                        schoolCloseEnough = True\n",
    "\n",
    "            # print(min_index)\n",
    "            close_school = schools_df.loc[min_index]\n",
    "\n",
    "            if not (close_school['sp_id'] in students_num.keys()):  # checking capacity\n",
    "                students_num[close_school['sp_id']] = 1\n",
    "            else:\n",
    "                students_num[close_school['sp_id']\n",
    "                             ] = students_num[close_school['sp_id']] + 1\n",
    "\n",
    "            # print('Success!')\n",
    "            # print(\"Student distribution \", students_num)\n",
    "\n",
    "            # school filled to capacity\n",
    "            if students_num[close_school['sp_id']] == close_school['size']:\n",
    "                # print(\"Before: {}\".format(schools_df.shape[0]))\n",
    "                # (schools_df.index[min_index])\n",
    "                schools_df = schools_df.drop(min_index)\n",
    "                # print(\"After: {}\".format(schools_df.shape[0]))\n",
    "\n",
    "                if schools_df.shape[0] == 0:\n",
    "                    allSchoolsFilled = True\n",
    "\n",
    "            isStudentAssigned = True\n",
    "\n",
    "        close_schools_ids.append(close_school['sp_id'])\n",
    "\n",
    "        if allSchoolsFilled:\n",
    "            print(\"All schools filled to capacity!\")\n",
    "            break\n",
    "\n",
    "    # print(pd.Series(close_schools_ids, name=\"school_id\", index = df.index[:len(close_schools_ids)]))\n",
    "    # print(close_schools_ids)\n",
    "    df_orig.update(pd.DataFrame(close_schools_ids, columns=[\n",
    "                   'school_id'], index=df.index[:len(close_schools_ids)]))\n",
    "    df_orig.to_csv(output_dir, sep='\\t')\n",
    "    return df_orig\n",
    "\n",
    "# schools_df['size'] = schools_df['size']\n",
    "schools_df['size'].sum()\n",
    "df_assign = assignSchools(people_df, hh_points_dic, schools_df)"
   ]
  },
  {
   "cell_type": "code",
   "execution_count": 26,
   "metadata": {},
   "outputs": [
    {
     "data": {
      "text/plain": [
       "164845"
      ]
     },
     "execution_count": 26,
     "metadata": {},
     "output_type": "execute_result"
    }
   ],
   "source": [
    "schools_df['size_new'] = schools_df['size'] + 2150\n",
    "schools_df['size_new'].sum()"
   ]
  }
 ],
 "metadata": {
  "kernelspec": {
   "display_name": ".env",
   "language": "python",
   "name": "python3"
  },
  "language_info": {
   "codemirror_mode": {
    "name": "ipython",
    "version": 3
   },
   "file_extension": ".py",
   "mimetype": "text/x-python",
   "name": "python",
   "nbconvert_exporter": "python",
   "pygments_lexer": "ipython3",
   "version": "3.12.2"
  }
 },
 "nbformat": 4,
 "nbformat_minor": 2
}
