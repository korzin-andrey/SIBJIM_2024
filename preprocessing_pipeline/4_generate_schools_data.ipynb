{
 "cells": [
  {
   "cell_type": "markdown",
   "metadata": {},
   "source": [
    "### Here we assign schools id to people from population whose age betwen 7 and 17"
   ]
  },
  {
   "cell_type": "code",
   "execution_count": 3,
   "metadata": {},
   "outputs": [],
   "source": [
    "import numpy as np\n",
    "import pandas as pd \n",
    "import matplotlib.pyplot as plt\n",
    "from shapely.geometry import Point\n",
    "from tqdm import tqdm\n",
    "from geopy.distance import great_circle"
   ]
  },
  {
   "cell_type": "code",
   "execution_count": 10,
   "metadata": {},
   "outputs": [
    {
     "name": "stdout",
     "output_type": "stream",
     "text": [
      "Total number of schools: 810\n"
     ]
    }
   ],
   "source": [
    "city_name = 'spb'\n",
    "input_dir_schools = '../data/' + city_name + '/schools_' + city_name + '.xlsx'\n",
    "output_dir_schools = '../data/' + city_name + '/schools_' + city_name + '_2023.txt'\n",
    "# input_dir_people = '../data/samara/people_samara_2023_splitted_dwellings.txt'\n",
    "# input_dir_households = '../data/samara/households_samara_2023_splitted_dwellings.txt'\n",
    "schools_df = pd.read_excel(input_dir_schools)\n",
    "# schools_processed = schools_df.drop(columns = ['id сервиса', 'Название'])\n",
    "schools_processed = schools_df\n",
    "schools_processed = schools_processed.rename(columns={'Мощность': 'size', 'Широта': 'latitude', 'Долгота': 'longitude'})\n",
    "schools_processed['sp_id'] = schools_processed.index + 1\n",
    "columns = schools_processed.columns.tolist()\n",
    "columns = ['sp_id', 'latitude', 'longitude', 'size']\n",
    "schools_processed = schools_processed[columns]\n",
    "\n",
    "print('Total number of schools:', len(schools_processed))\n",
    "schools_processed.to_csv(output_dir_schools, sep='\\t')"
   ]
  },
  {
   "cell_type": "code",
   "execution_count": 11,
   "metadata": {},
   "outputs": [
    {
     "ename": "NameError",
     "evalue": "name 'geo_df_s' is not defined",
     "output_type": "error",
     "traceback": [
      "\u001b[1;31m---------------------------------------------------------------------------\u001b[0m",
      "\u001b[1;31mNameError\u001b[0m                                 Traceback (most recent call last)",
      "Cell \u001b[1;32mIn[11], line 3\u001b[0m\n\u001b[0;32m      1\u001b[0m fig, ax \u001b[38;5;241m=\u001b[39m plt\u001b[38;5;241m.\u001b[39msubplots(figsize\u001b[38;5;241m=\u001b[39m(\u001b[38;5;241m8\u001b[39m, \u001b[38;5;241m8\u001b[39m))\n\u001b[0;32m      2\u001b[0m ax\u001b[38;5;241m.\u001b[39mset_title(\u001b[38;5;124m'\u001b[39m\u001b[38;5;124mHouseholds in Samara\u001b[39m\u001b[38;5;124m'\u001b[39m)\n\u001b[1;32m----> 3\u001b[0m \u001b[43mgeo_df_s\u001b[49m\u001b[38;5;241m.\u001b[39mplot(ax\u001b[38;5;241m=\u001b[39max)\n\u001b[0;32m      4\u001b[0m samara_geo_df_processed\u001b[38;5;241m.\u001b[39mplot(ax\u001b[38;5;241m=\u001b[39max, color\u001b[38;5;241m=\u001b[39m\u001b[38;5;124m'\u001b[39m\u001b[38;5;124mr\u001b[39m\u001b[38;5;124m'\u001b[39m, markersize\u001b[38;5;241m=\u001b[39m\u001b[38;5;241m0.5\u001b[39m)\n\u001b[0;32m      5\u001b[0m plt\u001b[38;5;241m.\u001b[39mscatter(df_households2023[\u001b[38;5;124m'\u001b[39m\u001b[38;5;124mlongitude\u001b[39m\u001b[38;5;124m'\u001b[39m], df_households2023[\u001b[38;5;124m'\u001b[39m\u001b[38;5;124mlatitude\u001b[39m\u001b[38;5;124m'\u001b[39m], s\u001b[38;5;241m=\u001b[39m\u001b[38;5;241m1\u001b[39m, color\u001b[38;5;241m=\u001b[39m\u001b[38;5;124m'\u001b[39m\u001b[38;5;124mb\u001b[39m\u001b[38;5;124m'\u001b[39m)\n",
      "\u001b[1;31mNameError\u001b[0m: name 'geo_df_s' is not defined"
     ]
    },
    {
     "data": {
      "image/png": "[encoded data removed]",
      "text/plain": [
       "<Figure size 800x800 with 1 Axes>"
      ]
     },
     "metadata": {},
     "output_type": "display_data"
    }
   ],
   "source": [
    "# fig, ax = plt.subplots(figsize=(8, 8))\n",
    "# ax.set_title('Households in Samara')\n",
    "# geo_df_s.plot(ax=ax)\n",
    "# samara_geo_df_processed.plot(ax=ax, color='r', markersize=0.5)\n",
    "# plt.scatter(df_households2023['longitude'], df_households2023['latitude'], s=1, color='b')\n",
    "# plt.scatter(50.139234516,53.521087455, color='g', s=10)"
   ]
  }
 ],
 "metadata": {
  "kernelspec": {
   "display_name": ".env",
   "language": "python",
   "name": "python3"
  },
  "language_info": {
   "codemirror_mode": {
    "name": "ipython",
    "version": 3
   },
   "file_extension": ".py",
   "mimetype": "text/x-python",
   "name": "python",
   "nbconvert_exporter": "python",
   "pygments_lexer": "ipython3",
   "version": "3.8.10"
  }
 },
 "nbformat": 4,
 "nbformat_minor": 2
}
